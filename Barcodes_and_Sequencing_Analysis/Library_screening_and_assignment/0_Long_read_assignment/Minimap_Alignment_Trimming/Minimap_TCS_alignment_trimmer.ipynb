{
 "cells": [
  {
   "cell_type": "code",
   "execution_count": 1,
   "metadata": {},
   "outputs": [],
   "source": [
    "from Bio import SeqIO, Seq\n",
    "import os\n",
    "from Bio import pairwise2"
   ]
  },
  {
   "cell_type": "code",
   "execution_count": 2,
   "metadata": {},
   "outputs": [
    {
     "name": "stdout",
     "output_type": "stream",
     "text": [
      "0\n",
      "B_caccae_TCS4 (reversed).fasta\n"
     ]
    },
    {
     "ename": "TypeError",
     "evalue": "must be str, not int",
     "output_type": "error",
     "traceback": [
      "\u001b[0;31m---------------------------------------------------------------------------\u001b[0m",
      "\u001b[0;31mTypeError\u001b[0m                                 Traceback (most recent call last)",
      "Cell \u001b[0;32mIn[2], line 20\u001b[0m\n\u001b[1;32m     18\u001b[0m \u001b[38;5;66;03m# determine the position where the reference sequence starts\u001b[39;00m\n\u001b[1;32m     19\u001b[0m ref_seq \u001b[38;5;241m=\u001b[39m alignment_sequences[\u001b[38;5;241m0\u001b[39m]\u001b[38;5;241m.\u001b[39mseq\n\u001b[0;32m---> 20\u001b[0m ref_start \u001b[38;5;241m=\u001b[39m \u001b[38;5;28mmin\u001b[39m([ref_seq\u001b[38;5;241m.\u001b[39mfind(b) \u001b[38;5;28;01mfor\u001b[39;00m b \u001b[38;5;129;01min\u001b[39;00m \u001b[38;5;124mb\u001b[39m\u001b[38;5;124m\"\u001b[39m\u001b[38;5;124mATCG\u001b[39m\u001b[38;5;124m\"\u001b[39m])\n\u001b[1;32m     21\u001b[0m \u001b[38;5;66;03m#print(ref_start)\u001b[39;00m\n\u001b[1;32m     22\u001b[0m \n\u001b[1;32m     23\u001b[0m \n\u001b[1;32m     24\u001b[0m \u001b[38;5;66;03m#from the Fasta files, find where the reference sequence starts\u001b[39;00m\n\u001b[1;32m     25\u001b[0m ref_start_A \u001b[38;5;241m=\u001b[39m \u001b[38;5;28mstr\u001b[39m(alignment_sequences[\u001b[38;5;241m0\u001b[39m]\u001b[38;5;241m.\u001b[39mseq)\u001b[38;5;241m.\u001b[39mfind(\u001b[38;5;124m'\u001b[39m\u001b[38;5;124mA\u001b[39m\u001b[38;5;124m'\u001b[39m)\n",
      "Cell \u001b[0;32mIn[2], line 20\u001b[0m, in \u001b[0;36m<listcomp>\u001b[0;34m(.0)\u001b[0m\n\u001b[1;32m     18\u001b[0m \u001b[38;5;66;03m# determine the position where the reference sequence starts\u001b[39;00m\n\u001b[1;32m     19\u001b[0m ref_seq \u001b[38;5;241m=\u001b[39m alignment_sequences[\u001b[38;5;241m0\u001b[39m]\u001b[38;5;241m.\u001b[39mseq\n\u001b[0;32m---> 20\u001b[0m ref_start \u001b[38;5;241m=\u001b[39m \u001b[38;5;28mmin\u001b[39m([\u001b[43mref_seq\u001b[49m\u001b[38;5;241;43m.\u001b[39;49m\u001b[43mfind\u001b[49m\u001b[43m(\u001b[49m\u001b[43mb\u001b[49m\u001b[43m)\u001b[49m \u001b[38;5;28;01mfor\u001b[39;00m b \u001b[38;5;129;01min\u001b[39;00m \u001b[38;5;124mb\u001b[39m\u001b[38;5;124m\"\u001b[39m\u001b[38;5;124mATCG\u001b[39m\u001b[38;5;124m\"\u001b[39m])\n\u001b[1;32m     21\u001b[0m \u001b[38;5;66;03m#print(ref_start)\u001b[39;00m\n\u001b[1;32m     22\u001b[0m \n\u001b[1;32m     23\u001b[0m \n\u001b[1;32m     24\u001b[0m \u001b[38;5;66;03m#from the Fasta files, find where the reference sequence starts\u001b[39;00m\n\u001b[1;32m     25\u001b[0m ref_start_A \u001b[38;5;241m=\u001b[39m \u001b[38;5;28mstr\u001b[39m(alignment_sequences[\u001b[38;5;241m0\u001b[39m]\u001b[38;5;241m.\u001b[39mseq)\u001b[38;5;241m.\u001b[39mfind(\u001b[38;5;124m'\u001b[39m\u001b[38;5;124mA\u001b[39m\u001b[38;5;124m'\u001b[39m)\n",
      "File \u001b[0;32m~/opt/anaconda3/lib/python3.8/site-packages/Bio/Seq.py:682\u001b[0m, in \u001b[0;36mSeq.find\u001b[0;34m(self, sub, start, end)\u001b[0m\n\u001b[1;32m    680\u001b[0m \u001b[38;5;66;03m# If it has one, check the alphabet:\u001b[39;00m\n\u001b[1;32m    681\u001b[0m sub_str \u001b[38;5;241m=\u001b[39m \u001b[38;5;28mself\u001b[39m\u001b[38;5;241m.\u001b[39m_get_seq_str_and_check_alphabet(sub)\n\u001b[0;32m--> 682\u001b[0m \u001b[38;5;28;01mreturn\u001b[39;00m \u001b[38;5;28;43mstr\u001b[39;49m\u001b[43m(\u001b[49m\u001b[38;5;28;43mself\u001b[39;49m\u001b[43m)\u001b[49m\u001b[38;5;241;43m.\u001b[39;49m\u001b[43mfind\u001b[49m\u001b[43m(\u001b[49m\u001b[43msub_str\u001b[49m\u001b[43m,\u001b[49m\u001b[43m \u001b[49m\u001b[43mstart\u001b[49m\u001b[43m,\u001b[49m\u001b[43m \u001b[49m\u001b[43mend\u001b[49m\u001b[43m)\u001b[49m\n",
      "\u001b[0;31mTypeError\u001b[0m: must be str, not int"
     ]
    }
   ],
   "source": [
    "import os\n",
    "from Bio import SeqIO\n",
    "\n",
    "#change paths as appropriate\n",
    "path_fasta = './fasta'\n",
    "path_fastq = './fastq'\n",
    "\n",
    "# get fasta and fastq file names\n",
    "fasta_files = sorted((f for f in os.listdir(path_fasta) if not f.startswith(\".\")))\n",
    "fastq_files = sorted((f for f in os.listdir(path_fastq) if not f.startswith(\".\")))\n",
    "\n",
    "for i in range(len(fasta_files)):\n",
    "    print(i)\n",
    "    print(fasta_files[i])\n",
    "    # read the alignment and fastq files\n",
    "    alignment_sequences = list(SeqIO.parse(str(path_fasta+'/'+fasta_files[i]), 'fasta'))\n",
    "    fastq_seqs = list(SeqIO.parse(str(path_fastq+'/'+fastq_files[i]), 'fastq'))\n",
    "    \n",
    "    # determine the position where the reference sequence starts\n",
    "    ref_seq = alignment_sequences[0].seq\n",
    "    ref_start = min([ref_seq.find(b) for b in b\"ATCG\"])\n",
    "    #print(ref_start)\n",
    "    \n",
    "    \n",
    "    #from the Fasta files, find where the reference sequence starts\n",
    "    ref_start_A = str(alignment_sequences[0].seq).find('A')\n",
    "    ref_start_T = str(alignment_sequences[0].seq).find('T')\n",
    "    ref_start_G = str(alignment_sequences[0].seq).find('G')\n",
    "    ref_start_C = str(alignment_sequences[0].seq).find('C')\n",
    "    ref_start = min([ref_start_A, ref_start_T, ref_start_G, ref_start_C])\n",
    "    #print(ref_start)\n",
    "    \n",
    "    \n",
    "    # trim the alignment sequences and fastq reads\n",
    "    trimmed_lengths = []\n",
    "    for n in range(1, len(alignment_sequences)):\n",
    "        seq = alignment_sequences[n]\n",
    "        old_string = str(seq.seq)\n",
    "        #print('oldstring',len(old_string))\n",
    "        new_string = old_string[(ref_start-143):ref_start].replace('-', '')\n",
    "        #print('newstring',len(new_string))\n",
    "        alignment_sequences[n].seq = Seq.Seq(new_string)\n",
    "        trimmed_lengths.append(len(new_string))\n",
    "        \n",
    "    for m in range(len(trimmed_lengths)):\n",
    "        fastq_seq = fastq_seqs[m] \n",
    "        trimmed_length = trimmed_lengths[m]\n",
    "        if len(fastq_seq) > trimmed_length:\n",
    "            fastq_seqs[m] = fastq_seq[:trimmed_length]\n",
    "        else:\n",
    "            break\n",
    "    \n",
    "    # write the trimmed fastq reads to a file\n",
    "    SeqIO.write(fastq_seqs, str(path_fastq+'/trimmed/'+fasta_files[i]+'.fastq.gz'), \"fastq\")\n"
   ]
  }
 ],
 "metadata": {
  "kernelspec": {
   "display_name": "Python 3 (ipykernel)",
   "language": "python",
   "name": "python3"
  },
  "language_info": {
   "codemirror_mode": {
    "name": "ipython",
    "version": 3
   },
   "file_extension": ".py",
   "mimetype": "text/x-python",
   "name": "python",
   "nbconvert_exporter": "python",
   "pygments_lexer": "ipython3",
   "version": "3.8.17"
  }
 },
 "nbformat": 4,
 "nbformat_minor": 4
}
