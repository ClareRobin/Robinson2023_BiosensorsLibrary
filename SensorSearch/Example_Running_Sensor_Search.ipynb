{
 "cells": [
  {
   "cell_type": "code",
   "execution_count": null,
   "id": "d393e54c",
   "metadata": {},
   "outputs": [],
   "source": [
    "import SensorSearch\n",
    "import pandas as pd\n",
    "pd.set_option('display.max_columns', None) #use to set Jupyter settings to show all colums of a dataframe"
   ]
  },
  {
   "cell_type": "code",
   "execution_count": null,
   "id": "63053e8e",
   "metadata": {},
   "outputs": [],
   "source": [
    "nicknames = ['Citrobacter rodentium',\n",
    "             'Edwardsiella tarda']\n",
    "genome_accessions = ['GCF_000027085.1',\n",
    "                     'GCF_002504285.1']"
   ]
  },
  {
   "cell_type": "code",
   "execution_count": null,
   "id": "0f31ddfc",
   "metadata": {},
   "outputs": [],
   "source": [
    "RE_sites = {'Canonical_TCS':[],\n",
    "            'SapI_compatible_TCS': [],\n",
    "            'BsaI_compatible_TCS': [],\n",
    "            'BsaI_not_SapI_compatible_TCS': [],\n",
    "            'PaqCI_compatible_TCS':[], \n",
    "           'Strain':[]}\n",
    "RE_sites_all = pd.DataFrame(data=RE_sites)\n",
    "\n",
    "for i in range(len(nicknames)): \n",
    "    genome_accession = genome_accessions[i] \n",
    "    print(genome_accession)\n",
    "    nickname = nicknames[i]\n",
    "    print(nickname)\n",
    "    page_max = 100\n",
    "    sig_types = 'TCS'\n",
    "    left_spacer = 0\n",
    "    right_spacer = 0\n",
    "    \n",
    "    hk_rr_sig_genes, signalling_genes_df, all_genes_df = SensorSearch.retrieve_genes(genome_accession, page_max, sig_types)\n",
    "    pairs_list = SensorSearch.pair_TCS(hk_rr_sig_genes)\n",
    "    complete_TCS, canonical_TCS = SensorSearch.get_TCS_target(pairs_list, all_genes_df)\n",
    "    SensorSearch.plot_TCS_systems(canonical_TCS, genome_accession, nickname)\n",
    "    seq_pd, RE_sites_df =SensorSearch.get_combined_sequences(canonical_TCS, genome_accession, left_spacer, right_spacer, nickname, sig_types)\n",
    "    \n",
    "    RE_sites_df['Strain']=nickname\n",
    "    RE_sites_all = pd.concat([RE_sites_all, RE_sites_df])"
   ]
  },
  {
   "cell_type": "code",
   "execution_count": null,
   "id": "86590f86",
   "metadata": {},
   "outputs": [],
   "source": [
    "RE_sites_all"
   ]
  }
 ],
 "metadata": {
  "kernelspec": {
   "display_name": "Python 3 (ipykernel)",
   "language": "python",
   "name": "python3"
  },
  "language_info": {
   "codemirror_mode": {
    "name": "ipython",
    "version": 3
   },
   "file_extension": ".py",
   "mimetype": "text/x-python",
   "name": "python",
   "nbconvert_exporter": "python",
   "pygments_lexer": "ipython3",
   "version": "3.8.17"
  }
 },
 "nbformat": 4,
 "nbformat_minor": 5
}
